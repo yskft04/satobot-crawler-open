{
 "cells": [
  {
   "cell_type": "code",
   "execution_count": 4,
   "id": "6361ef22-721d-4647-ba88-2f133a6f3848",
   "metadata": {},
   "outputs": [
    {
     "name": "stdout",
     "output_type": "stream",
     "text": [
      "AINOW編集長が振り返る2021年のAI動向｜キーワードは「DXの中のAI」と「AIガバナンス」#pickup 2021.12.29\n",
      "/tag/pickup\n",
      "ビジネスとイノベーションをつなぐMicrosoft AI｜AI実装をする企業としない企業の3つのギャップ#DX#pickup#活用事例 2021.12.28\n",
      "/tag/dx\n",
      "AI Questとは？実際に取り組むことや受講するメリットまで解説！#AI（人工知能）#AI人材 2021.12.28\n",
      "/tag/ai%ef%bc%88%e4%ba%ba%e5%b7%a5%e7%9f%a5%e8%83%bd%ef%bc%89\n",
      "AIの問題点まとめ｜雇用の減少・過失責任の在処・軍事利用など解説#AI#まとめ系#活用事例 2021.12.27\n",
      "/tag/ai\n",
      "AIの仕組みをわかりやすく解説-AIの定義から活用事例、作り方まで理解しよう！#AI#ディープラーニング#機械学習 2021.12.24\n",
      "/tag/ai\n",
      "AI×テキストマイニング|メリット、おすすめツール、利用法までご紹介#AI#活用事例 2021.12.24\n",
      "/tag/ai\n",
      "【Microsoftリサーチ公式ブログ記事】Turing Bletchley：Microsoftが開発したユニバーサル画像言語表現モデル#AI（人工知能） 2021.12.24\n",
      "/tag/ai%ef%bc%88%e4%ba%ba%e5%b7%a5%e7%9f%a5%e8%83%bd%ef%bc%89\n",
      "AIキャディを使用してさらにゴルフが楽しくなる！？　メリット・デメリットから口コミまで#AI（人工知能）#活用事例 2021.12.23\n",
      "/tag/ai%ef%bc%88%e4%ba%ba%e5%b7%a5%e7%9f%a5%e8%83%bd%ef%bc%89\n",
      "国内メガバンク初｜みずほ銀行がキャッシュカードの再配送受付を自動化#活用事例#音声認識 2021.12.22\n",
      "/tag/use-case\n",
      "Kaggleとは？｜概要や始め方、おすすめ書籍まで紹介#AI（人工知能）#とは系 2021.12.22\n",
      "/tag/ai%ef%bc%88%e4%ba%ba%e5%b7%a5%e7%9f%a5%e8%83%bd%ef%bc%89\n",
      "人間にしかできないこと一覧｜人間の能力とAIの能力を比較して解説！#AI（人工知能） 2021.12.21\n",
      "/tag/ai%ef%bc%88%e4%ba%ba%e5%b7%a5%e7%9f%a5%e8%83%bd%ef%bc%89\n",
      "【Michael Black氏エッセー】31年間のICCVを振り返って#AI（人工知能） 2021.12.21\n",
      "/tag/ai%ef%bc%88%e4%ba%ba%e5%b7%a5%e7%9f%a5%e8%83%bd%ef%bc%89\n",
      "AIの略語って何？AI歴史やできることこれからの姿など解説！#AI（人工知能） 2021.12.17\n",
      "/tag/ai%ef%bc%88%e4%ba%ba%e5%b7%a5%e7%9f%a5%e8%83%bd%ef%bc%89\n",
      "GPT-4は、GPT-3の500倍となる100兆個のパラメータを持つだろう#AI（人工知能） 2021.12.17\n",
      "/tag/ai%ef%bc%88%e4%ba%ba%e5%b7%a5%e7%9f%a5%e8%83%bd%ef%bc%89\n",
      "AIを学べるスクールおすすめ5選｜メリット・デメリット、選び方まで紹介#AI 2021.12.16\n",
      "/tag/ai\n"
     ]
    }
   ],
   "source": [
    "from urllib import request# urllib.requestモジュールをインポート\n",
    "from bs4 import BeautifulSoup  # BeautifulSoupクラスをインポート\n",
    "\n",
    "url = \"https://ainow.ai/new/\"\n",
    "response = request.urlopen(url)\n",
    "soup = BeautifulSoup(response)\n",
    "response.close()\n",
    "#soup\n",
    "\n",
    "## soup と実行すると、ソースコードを吐き出してくれる。\n",
    "## そこから、必要な要素を考える。\n",
    "links = soup.find_all(\"div\",class_=\"article_title\")\n",
    "for li in links:\n",
    "    #print(li)\n",
    "    l = li.find(\"a\")\n",
    "    if l != None: #liに実態があれば\n",
    "        url = l.get(\"href\")\n",
    "        title = li.text.replace( '\\n' , '' )#何故か改行が入ってしまってる場合がある。\n",
    "        print(title)\n",
    "        print(url)"
   ]
  },
  {
   "cell_type": "code",
   "execution_count": null,
   "id": "f685c5c4-f1ba-4823-8e09-504127950279",
   "metadata": {},
   "outputs": [],
   "source": []
  }
 ],
 "metadata": {
  "kernelspec": {
   "display_name": "Python 3 (ipykernel)",
   "language": "python",
   "name": "python3"
  },
  "language_info": {
   "codemirror_mode": {
    "name": "ipython",
    "version": 3
   },
   "file_extension": ".py",
   "mimetype": "text/x-python",
   "name": "python",
   "nbconvert_exporter": "python",
   "pygments_lexer": "ipython3",
   "version": "3.9.6"
  }
 },
 "nbformat": 4,
 "nbformat_minor": 5
}
