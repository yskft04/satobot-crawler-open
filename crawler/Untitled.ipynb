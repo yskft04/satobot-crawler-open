{
 "cells": [
  {
   "cell_type": "code",
   "execution_count": 9,
   "id": "a53f5d0e-05c3-4b88-9ba5-8f47f8ff867f",
   "metadata": {},
   "outputs": [],
   "source": [
    "from urllib import request  # urllib.requestモジュールをインポート\n",
    "from bs4 import BeautifulSoup  # BeautifulSoupクラスをインポート\n",
    "\n",
    "url = \"https://news.google.com/topics/CAAqJAgKIh5DQkFTRUFvS0wyMHZNSEJyWHpkNGN4SUNhbUVvQUFQAQ?hl=ja&gl=JP&ceid=JP%3Aja\"\n",
    "response = request.urlopen(url)\n",
    "soup = BeautifulSoup(response)\n",
    "response.close()\n",
    "#soup\n",
    "\n",
    "## soup と実行すると、ソースコードを吐き出してくれる。\n",
    "## そこから、必要な要素を考える。\n",
    "links = soup.find_all(\"div\",class_=\"gb_Fd gb_Wd gb_Md\")\n",
    "for li in links:\n",
    "    #print(li)\n",
    "    l = li.find(\"a\")\n",
    "    if l != None: #liに実態があれば\n",
    "        url = l.get(\"href\")\n",
    "        title = li.text.replace( '\\n' , '' )#何故か改行が入ってしまってる場合がある。\n",
    "        print(title)\n",
    "        print(url)"
   ]
  },
  {
   "cell_type": "code",
   "execution_count": null,
   "id": "8fab5498-cef8-4760-8994-659b6029e018",
   "metadata": {},
   "outputs": [],
   "source": []
  }
 ],
 "metadata": {
  "kernelspec": {
   "display_name": "Python 3 (ipykernel)",
   "language": "python",
   "name": "python3"
  },
  "language_info": {
   "codemirror_mode": {
    "name": "ipython",
    "version": 3
   },
   "file_extension": ".py",
   "mimetype": "text/x-python",
   "name": "python",
   "nbconvert_exporter": "python",
   "pygments_lexer": "ipython3",
   "version": "3.9.6"
  }
 },
 "nbformat": 4,
 "nbformat_minor": 5
}
