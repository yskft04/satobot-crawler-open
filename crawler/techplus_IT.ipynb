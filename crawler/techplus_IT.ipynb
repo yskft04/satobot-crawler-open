{
 "cells": [
  {
   "cell_type": "code",
   "execution_count": 10,
   "id": "9ddbfbdd-2352-43b2-a5df-a9c23c6c8163",
   "metadata": {},
   "outputs": [
    {
     "name": "stdout",
     "output_type": "stream",
     "text": [
      "2022年01月04日(火)                企業IT                              2022年はデータ利活用の垣根が取り払われ、データから価値を得られる年に - Tableau佐藤氏                                1時間前                                 企業IT                              モダン・データ・エクスペリエンスでビジネスの回復を支援 - ピュア・ストレージ田中社長                                1時間前                                 企業IT                              どうなる？　２０２２年の旅行業界①　澤田秀雄・エイチ・アイ・エス会長兼社長に直撃！                                1時間前                                 企業IT                              グローバルで質の伴った成長を - NTTデータ 年頭所感                                1時間前                                 企業IT                              2022年は顧客のビジネス変革を支え持続可能な社会に貢献を - HPE望月社長                                2時間前                レポート                 企業IT                              イノベーションを後押しするDXの実現へ - シトリックス年頭所感                                2時間前                                 企業IT                              日本のIT市場におけるクラウドスキルの底上げをリード - Veeam 年頭所感                                2時間前                                 企業IT                              「The World Works with ServiceNow」を目指す - ServiceNow 年頭所感                                2時間前                                 企業IT                              日本社会の再活性化に向けた変革を支援 - マイクロソフト 年頭所感                                2時間前                                 企業IT                              データ・ファースト・モダナイゼーションに注力 - HPE 望月社長                                3時間前                                 企業IT                              お客様の変革に貢献するパートナーを目指して - デル 年頭所感                                3時間前                                 企業IT                              グローバル創業50周年、大転換の1年に - SAPジャパン 鈴木社長                                3時間前                                 企業IT                              「人」と「データ」へ取組みを強化 - 内田洋行 年頭所感                                3時間前                                 企業IT                              航空機の技術とメカニズムの裏側 第310回 米海軍が導入した “魔法の絨毯”とは？                                4時間前                連載                 企業IT                              デジタルを駆使し、 デジタル変革を支援 - シスコ 年頭所感                                4時間前                                 企業IT                              「ドコモビジネス」を信頼されるブランドに - NTT Com 年頭所感                                4時間前                                 企業IT                              ついに施行された改正電帳法、結局何が変わった? 電子化の動きを止めるな                                6時間前                レポート                 企業IT                              次の30年もインターネットの技術分野でイニシアティブを執る‐IIJ年頭所感                                6時間前                                 企業IT                              『２０２２年を大胆予測』特別インタビュー　安永竜夫・三井物産会長                                6時間前                 \n",
      "/techplus/article/20220104-2242922/\n",
      "2022年01月03日(月)                企業IT                              2021年デバイス別シェア、パソコンがスマホを上回る                                14時間前                 \n",
      "/techplus/article/20220103-2242624/\n"
     ]
    }
   ],
   "source": [
    "from urllib import request  # urllib.requestモジュールをインポート\n",
    "from bs4 import BeautifulSoup  # BeautifulSoupクラスをインポート\n",
    "\n",
    "url = \"https://news.mynavi.jp/techplus/list/headline/\"\n",
    "response = request.urlopen(url)\n",
    "soup = BeautifulSoup(response)\n",
    "response.close()\n",
    "#soup\n",
    "\n",
    "## soup と実行すると、ソースコードを吐き出してくれる。\n",
    "## そこから、必要な要素を考える。\n",
    "links = soup.find_all(\"div\",class_=\"c-archiveList_daily\")\n",
    "for li in links:\n",
    "    #print(li)\n",
    "    l = li.find(\"a\")\n",
    "    if l != None: #liに実態があれば\n",
    "        url = l.get(\"href\")\n",
    "        title = li.text.replace( '\\n' , '' )#何故か改行が入ってしまってる場合がある。\n",
    "        print(title)\n",
    "        print(url)"
   ]
  },
  {
   "cell_type": "code",
   "execution_count": null,
   "id": "f0d2871f-679a-4d6f-bd06-375d24501958",
   "metadata": {},
   "outputs": [],
   "source": []
  }
 ],
 "metadata": {
  "kernelspec": {
   "display_name": "Python 3 (ipykernel)",
   "language": "python",
   "name": "python3"
  },
  "language_info": {
   "codemirror_mode": {
    "name": "ipython",
    "version": 3
   },
   "file_extension": ".py",
   "mimetype": "text/x-python",
   "name": "python",
   "nbconvert_exporter": "python",
   "pygments_lexer": "ipython3",
   "version": "3.9.6"
  }
 },
 "nbformat": 4,
 "nbformat_minor": 5
}
