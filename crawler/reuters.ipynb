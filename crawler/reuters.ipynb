{
 "cells": [
  {
   "cell_type": "code",
   "execution_count": 3,
   "id": "0acb6057-e5c5-4906-81d0-6ccdafe04b8e",
   "metadata": {},
   "outputs": [
    {
     "name": "stdout",
     "output_type": "stream",
     "text": [
      " \t\t\t\t\t\t\tコラム成長の背景に「厳しい期待」                        アップルの時価総額が４１カ月で１兆ドルから３兆ドルに拡大した。これほど成長し、多大なリスクがあるにもかかわらず、同社は「大数の法則」をかわし続ける可能性がある。 中国恒大､海南島で建設中の住宅に取り壊し命令 インドネシアが石炭輸出禁止、業界に波紋 「核戦争に勝者いない」、核保有国が共同声明 展望2022：経済・政治・外交に潜む3匹の虎\n",
      "/article/idJPKBN2JE06Y\n",
      "トルコ大統領、2月にサウジ訪問へ　関係修復模索か石油需要、年末までにパンデミック前水準に＝ＯＰＥＣ次期事務局長アップル時価総額、一時初の3兆ドル　ＶＲや自動車参入に期待もドル115円後半まで上昇、昨年11月24日以来の高水準＝東京外為市場米国務長官、ウクライナ国境のロシア軍集結巡り中東欧諸国と協議\n",
      "/article/topNews/idJPKBN2JE06W\n",
      "ロイターコラム2022年の視点：岸田首相の「安倍離れ」と日銀緩和縮小の思惑＝上野泰也氏2022年の視点：コロナ後の懸念はデフレよりインフレ、政府・日銀にやっかいな課題＝鈴木明彦氏2022年の視点：「悪い円安」の裏に低成長・日本の現実、脱却は可能か＝唐鎌大輔氏\n",
      "/article/jp_column/idJPKBN2J61C2\n",
      "トップニュース \t\t\t\t\t「核戦争に勝者いない」、米中など核保有5大国が共同声明 \t\t\t\t\t中国恒大、海南島で建設中の集合住宅に取り壊し命令 \t\t\t\t\tＮＹ司法長官、トランプ氏長男・長女の召喚も要求　資産巡る調査で            トップニュース一覧                ›ワールド \t\t\t\t\t米東岸で暴風雪、停電や欠航　ワシントンにも大雪 \t\t\t\t\t変異株の強感染力、医療逼迫が問題＝ファウチ氏 \t\t\t\t\t台湾総統、中国の軍事冒険主義に警鐘 \t\t\t\t\tトルコリラ、年間下落率44％に　過去20年で最大 \t\t\t\t\t2021年シンガポールＧＤＰ、10年以来の高い伸び            ワールド一覧                ›2022年の視点 \t\t\t\t\t経済・政治・外交に潜む3匹の虎＝熊野英生氏 \t\t\t\t\tコロナ後の懸念はデフレよりインフレ＝鈴木明彦氏 \t\t\t\t\t市場揺さぶるビッグ３は誰か＝尾河眞樹氏 \t\t\t\t\t悪い円安の裏に低成長・日本の現実＝唐鎌大輔氏 \t\t\t\t\t行動制限の基準は医療ひっ迫＝小林・慶大教授スライドショー \t\t\t\t\t世界各地で新年を祝う \t\t\t\t\t米東海岸に寒波 \t\t\t\t\t12月のベストショット            スライドショー一覧                ›\n",
      "/article/idJPKBN2JD0XE\n",
      "トップニュース \t\t\t\t\t「核戦争に勝者いない」、米中など核保有5大国が共同声明 \t\t\t\t\t中国恒大、海南島で建設中の集合住宅に取り壊し命令 \t\t\t\t\tＮＹ司法長官、トランプ氏長男・長女の召喚も要求　資産巡る調査で            トップニュース一覧                ›\n",
      "/article/idJPKBN2JD0XE\n",
      "ワールド \t\t\t\t\t米東岸で暴風雪、停電や欠航　ワシントンにも大雪 \t\t\t\t\t変異株の強感染力、医療逼迫が問題＝ファウチ氏 \t\t\t\t\t台湾総統、中国の軍事冒険主義に警鐘 \t\t\t\t\tトルコリラ、年間下落率44％に　過去20年で最大 \t\t\t\t\t2021年シンガポールＧＤＰ、10年以来の高い伸び            ワールド一覧                ›\n",
      "/article/idJPKBN2JD1AT\n",
      "2022年の視点 \t\t\t\t\t経済・政治・外交に潜む3匹の虎＝熊野英生氏 \t\t\t\t\tコロナ後の懸念はデフレよりインフレ＝鈴木明彦氏 \t\t\t\t\t市場揺さぶるビッグ３は誰か＝尾河眞樹氏 \t\t\t\t\t悪い円安の裏に低成長・日本の現実＝唐鎌大輔氏 \t\t\t\t\t行動制限の基準は医療ひっ迫＝小林・慶大教授\n",
      "/article/idJPKBN2J703G\n",
      "スライドショー \t\t\t\t\t世界各地で新年を祝う \t\t\t\t\t米東海岸に寒波 \t\t\t\t\t12月のベストショット            スライドショー一覧                ›\n",
      "/news/picture/in-pictures-ringing-in-2022-around-the-w-idJPRTS44PWY\n",
      "マーケットデータ日経平均        \t29,240.8312:35 PM JST▲\t\t\t\t+1.56%JASDAQ        \t177.1312:35 PM JST▲\t\t\t\t+0.25%ダウ平均        \t36,585.066:52 AM JST▲\t\t\t\t+0.68%\n",
      "/investing/markets/index?symbol=.N225\n",
      "ロイター特集SDGsとビジネス2030年までに世界が達成すべきゴール政局の行方第100代首相に岸田文雄氏アフガニスタン情勢混乱が続くアフガニスタン情勢[PR] 新たな価値の創造早稲田大学ビジネススクール特別対談\n",
      "/news/trade\n",
      "ワールドドイツ、原発の「グリーン分類」拒否　天然ガスは受け入れ韓国ＬＧエナジー、ＩＰＯで108億ドル調達目指す　国内最大に国際商品相場、ＬＮＧ・石炭主導で21年に急騰　22年は伸び悩みも\n",
      "/article/worldNews/idJPKBN2JE057\n",
      "ビジネス前場の日経平均は反発、米株や中国指標が支援　トヨタ上場来高値世界経済「不確実性高まっている」と日銀総裁、物価高や変異株で中国製造業ＰＭＩ、12月は50.9に上昇　予想上回る\n",
      "/article/businessNews/idJPKBN2JE05I\n",
      "マーケットアジア株式市場サマリー：中盤（4日）〔マーケットアイ〕外為：正午のドルは115円半ばで堅調、2017年1月以来の高水準トルコ大統領、2月にサウジ訪問へ　関係修復模索か\n",
      "/article/marketsNews/idJPL4N2TK0CZ\n",
      "テクノロジーツイッター、グリーン議員のアカウント永久停止　コロナ誤情報でＡＴ＆Ｔとベライゾン、５Ｇ導入延期の政府要請拒否　空港周辺は見合わせＣＥＳ、会期1日短縮し1月7日に終了　公衆衛生上の懸念\n",
      "/article/technologyNews/idJPKBN2JE007\n",
      "ロイターコラムコラム：米モルガンＳ、見えてきたＣＥＯ交代の道筋2022年の視点：ドル高基調続く構造、120円試しも＝植野大作氏2022年の視点：市場揺さぶるビッグ３は誰か、不意打ちに要警戒＝尾河眞樹氏\n",
      "/article/jp_column/idJPKBN2J7089\n",
      "ピクチャーギャラリーTop Photos of the Day\n",
      "/news/picture/top-photos-of-the-day-idJPRTS47H30\n",
      "Winter storm pounds Washington as it moves across U.S. East Coast\n",
      "/news/picture/winter-storm-pounds-washington-as-it-mov-idJPRTS47S04\n",
      "\n",
      "\n"
     ]
    }
   ],
   "source": [
    "from urllib import request  # urllib.requestモジュールをインポート\n",
    "from bs4 import BeautifulSoup  # BeautifulSoupクラスをインポート\n",
    "\n",
    "url = \"https://jp.mobile.reuters.com/\"\n",
    "response = request.urlopen(url)\n",
    "soup = BeautifulSoup(response)\n",
    "response.close()\n",
    "#soup\n",
    "\n",
    "## soup と実行すると、ソースコードを吐き出してくれる。\n",
    "## そこから、必要な要素を考える。\n",
    "links = soup.find_all(\"div\",class_=\"module-container\" or \"articlePanel\")\n",
    "for li in links:\n",
    "    #print(li)\n",
    "    l = li.find(\"a\")\n",
    "    if l != None: #liに実態があれば\n",
    "        url = l.get(\"href\")\n",
    "        title = li.text.replace( '\\n' , '' )#何故か改行が入ってしまってる場合がある。\n",
    "        print(title)\n",
    "        print(url)"
   ]
  },
  {
   "cell_type": "code",
   "execution_count": null,
   "id": "b08aeb61-87ea-4c4e-a07e-df87c5e550fc",
   "metadata": {},
   "outputs": [],
   "source": []
  }
 ],
 "metadata": {
  "kernelspec": {
   "display_name": "Python 3 (ipykernel)",
   "language": "python",
   "name": "python3"
  },
  "language_info": {
   "codemirror_mode": {
    "name": "ipython",
    "version": 3
   },
   "file_extension": ".py",
   "mimetype": "text/x-python",
   "name": "python",
   "nbconvert_exporter": "python",
   "pygments_lexer": "ipython3",
   "version": "3.9.6"
  }
 },
 "nbformat": 4,
 "nbformat_minor": 5
}
