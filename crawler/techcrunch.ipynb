{
 "cells": [
  {
   "cell_type": "code",
   "execution_count": 4,
   "id": "7a99c19c-60ab-40d4-828f-6b93750eefde",
   "metadata": {},
   "outputs": [
    {
     "name": "stdout",
     "output_type": "stream",
     "text": [
      "その他【コラム】AI時代の「データの産業革命」：創始者たちが間違っていたこと2022年1月4日 by Joe Hellerstein, Dragonfly 2010年2月、The Economistは「Data, data everywhere」というレポートを公開した。当時は、そのデータのランドスケープが実際にはどれだけ単純なものであったか、ほとんどわかっていなかった。つまり、相対的に見て、2022年に目を向けるときに直面するデータの現実を考えた場合である。 続きを読む\n",
      "https://jp.techcrunch.com/news/others/\n",
      "ニュース【コラム】DEIプログラムが機能していない理由2022年1月4日 by Candice Bristow, Dragonfly 企業はしばらく前から、DEI（Diversity：多様性、Equity：公平性、Inclusion：包括性）を備えた職場環境の確立に努めてきたが、一昨年からの一連の出来事は、インパクトのあるDEIの取り組みにおいて大半の組織がいかに未熟であるかを浮き彫りにした。 続きを読む\n",
      "https://jp.techcrunch.com/news/\n",
      "ハードウェア本当にクラシックなBlackBerry端末の使用を止めるときがきた2022年1月4日 by Brian Heater, katsuyukiyasui BlackBerryの長く孤独な死は、明日（米国時間1月4日）に新たな節目を迎える。同社はついにレガシーサービスへのアクセスを終了する。しがみつくようにBlackBerry OS 7.1とBlackBerry 10搭載デバイスを使っているユーザーは、同日、実質的にその機能を失ってしまう。 続きを読む\n",
      "https://jp.techcrunch.com/news/hardware/\n",
      "ハードウェアサムスンの2022年スマートテレビはクラウドゲーム、ビデオチャット、NFTまでサポート2022年1月4日 by Sarah Perez, Nariko Mizoguchi CESの正式な開幕に先立ち、Samsungは米国時間1月3日、次世代スマートテレビのビジョンを明らかにした。クラウドベースのゲームサービス、テレビを見ながらのビデオチャット、さらにはNFT（非代替性トークン）まで搭載している。 続きを読む\n",
      "https://jp.techcrunch.com/news/hardware/\n",
      "ネットサービスツイッターが約1210億円でモバイル広告プラットフォームMoPub売却を完了2022年1月4日 by Sarah Perez, Nariko Mizoguchi Twitterは米国時間1月3日、モバイル広告プラットフォームMoPubについて、モバイルゲームメーカーでマーケティングソフトウェアプロバイダーのAppLovinへの現金10億5000万ドル（約1210億円）での売却を完了したと発表した。 続きを読む\n",
      "https://jp.techcrunch.com/news/internet-services/\n",
      "ゲーム / eSportsプレイするハードも台数も問わない夢のAlienware製家庭用ゲームサーバーConcept Nyxは「あくまでも」コンセプトモデル2022年1月4日 by Brian Heater, Nariko Mizoguchi ここ数年、Dellおよび同社のゲーミングブランドであるAlienwareは、将来登場する可能性のあるものとして、コンセプトデバイスの披露を好むようになっている。実際、これは自動車業界をお手本として家電業界全体のトレンドになりつつある。 続きを読む\n",
      "https://jp.techcrunch.com/news/esports/\n",
      "ネットサービスAIの利用が加速するなか、韓国のデータラベリング企業AIMMOがシリーズAで13.8億円調達2022年1月3日 by Kate Park, Nobuo Takahashi 人工知能モデルのほとんどは、監視下での学習を通じて訓練される。韓国のスタートアップAIMMOは、ソフトウェアと人間を使って、画像、ビデオ、音声、テキスト、センサーフュージョンデータのラベル付けとカテゴリー分けを行なってており、企業が高速でデータラベリングを行えるAIデータ・アノテーション・プラットフォームも開発した。 続きを読む\n",
      "https://jp.techcrunch.com/news/internet-services/\n",
      "ネットサービスツイッター、米議員の個人アカウントを新型コロナ誤情報規約違反で使用禁止に2022年1月3日 by Devin Coldewey, Nariko Mizoguchi グリーン下院議員は、パンデミックに関連すると思われる記事や統計情報を盛んに投稿・拡散していたが、多くは誤解を招いたり、完全に間違っていたりした。これはTwitterが超えてはならない一線を引いたトピックの1つだ。 続きを読む\n",
      "https://jp.techcrunch.com/news/internet-services/\n",
      "ネットサービステクノロジーの最も「ダサかった」瞬間を振り返る2022年1月3日 by Devin Coldewey, Amanda Silberling, Ingrid Lunden, sako 2021年、テクノロジーは大きく進歩した。mRNAワクチンの普及！ 小惑星軌道変更ミッション！物議を醸すノッチ付きの非常にパワフルなノートパソコン！しかし室内農業ロボットに驚嘆したことを思い出すよりも、最も困惑するような出来事を思い出す方が残念ながら簡単だ。さあ、チューチューチューギートレインに跳び乗ろう。 続きを読む\n",
      "https://jp.techcrunch.com/news/internet-services/\n",
      "ネットサービス【コラム】Web3こそが関心や大きな注目が価値を生むアテンションエコノミーの欠陥を修復できる2022年1月2日 by Doug Petkanics, Dragonfly 不均衡なクリエイターエコノミーや貧弱なセキュリティ、一元的な管理や不満を持つコミュニティなど、Web 2.0の欠陥はここ数カ月間で明らかになった。今こそ変化を起こす時だろう。Web3の起業家として、より協調的・創造的でユーザー中心のインターネットを育むオープンなインフラを構築するにあたって、前世代のテクノロジーの根本的な欠陥を解決するのは私たちの役目だ。 続きを読む\n",
      "https://jp.techcrunch.com/news/internet-services/\n",
      "その他【コラム】ファクトチェックのスタートアップの構築で学んだこと2022年1月2日 by Dhruv Ghulati, Dragonfly 2016年の米大統領選の余波を受けて、筆者はオンライン上のフェイクニュースの惨害に対処できるプロダクトの開発に着手した。最初の仮説は単純だった。5年にわたる努力の末、Factmataは一定の成功を収めた。しかし、この分野が真に成長するためには、経済面から技術面に至るまで、まだ克服しなければならない多くの障壁がある。 続きを読む\n",
      "https://jp.techcrunch.com/news/others/\n",
      "その他技術系スタートアップが在宅勤務のソフトウェア開発者を大切に扱うための5つのヒント2022年1月2日 by Lorna Mitchell, Dragonfly 私はテック業界がいかに精神的に良好な状態を保つのが難しい場所であるかを考えていた。特に、前例のない状況でのリモートワークは、困難な状況をさらに悪化させる可能性がある。10年以上にわたってテクノロジー業界でリモートワークをしてきた者として、今回はペースの速い技術系スタートアップ企業がソフトウェア開発の人材を大切に扱うためのヒントを紹介したい。 続きを読む\n",
      "https://jp.techcrunch.com/news/others/\n",
      "セキュリティ【コラム】「セキュリティ・バイ・デザイン」の時代がやってきた2022年1月2日 by Mark Sullivan, Dragonfly 近年、サイバー犯罪者の手口はますます巧妙になっている。最新のトレンドや世間の関心が高い問題を悪用してマルウェアを拡散し、無防備なユーザーから個人情報を盗むのである。 続きを読む\n",
      "https://jp.techcrunch.com/news/security/\n",
      "その他【コラム】クリエイターエコノミーとクリエイターテックが実現する大きなビジネス2022年1月2日 by Ira Belsky, Dragonfly クリエイターエコノミーという言葉を聞いたことがある人は少なくないはずだ。もはや新しい概念ではないし、それが何かをよく知っている人もいるだろう。しかし、その名が示す通り、クリエイターエコノミーにはクリエイターが必要だ。 続きを読む\n",
      "https://jp.techcrunch.com/news/others/\n",
      "セキュリティランサムウェアの潮目が変わった、米国当局が勝ち目のないと思われた戦いにわずかながら勝利を収めた2022年1月2日 by Carly Page, Hiroshi Iwatani 2021年はランサムウェアが蔓延した。2021年には、ITソフトウェア企業Kaseyaへの攻撃で1500社がオフラインにされ、CD Projekt Redのハックでは、Cyberpunk 2077やThe Witcher 3などのゲームのソースコードがやられた。大手有名企業も被害を受け、その中にはオリンパスや富士フイルム、そしてパナソニックが含まれている。 続きを読む\n",
      "https://jp.techcrunch.com/news/security/\n",
      "イベント情報【TC Tokyo 2021レポート】「自分の成長が止まることへの危機感」「巨大市場でド本命の事業を」―スマートバンク・堀井氏と令和トラベル・篠塚氏に聞く連続起業家2021年12月31日 by Hisashi Shibata 12月2、3日にオンラインで開催された「TechCrunch Tokyo 2021」。そこで行われた「日本でも増える連続起業家」をテーマにしたセッションのレポートをお伝えする。登壇者は、日本を代表する連続起業家（シリアルアントレプレナー）であるスマートバンク代表取締役の堀井翔太氏と、令和トラベル代表取締役社長の篠塚孝哉氏。このセッションでは日本を代表する連続起業家である2人に、再び起業を行うというのはどういった気持ちや目的からなのか、さらに2回目では以前の経験がどう活きたのかを聞いた。 続きを読む\n",
      "https://jp.techcrunch.com/event-info/\n",
      "イベント情報【コラム】10年前のCES 2012を振り返る「Ultrabook、Noka Windows、全家庭に3Dプリンターを！」2021年12月31日 by Brian Heater, Nobuo Takahashi ラスベガス・コンベンションセンターと数多くの博覧会会場とホテルのスイートルームは、善意と計画的陳腐化の亡霊で溢れかえる。それはこの業界の特質だ。今や日常となったデバイスのいくつかは、過去10年にCESでデビューしたものだが、ほとんどの場合、デバイスは現れては消える、そもそも店の陳列棚にたどりつけばの話だが。 続きを読む\n",
      "https://jp.techcrunch.com/event-info/\n",
      "ハードウェア小さくて安価なLiDAR技術の生産拡大を目指すVoyantが約17.7億円調達、ロボティクスや工作機械がターゲット2021年12月31日 by Devin Coldewey, Hiroshi Iwatani LiDARの未来は、Voyantが望むように、価格と大きさが今の数十分の一にまで下がらないかぎり不確実だ。LiDARがサンドイッチのようなサイズの数千ドル（数十万円）のデバイスであるかぎり、広い普及は望めない。そこでVoyantは、高性能なLiDARを小型化 / 低価格化し、容易に生産できるように資金を調達した。 続きを読む\n",
      "https://jp.techcrunch.com/news/hardware/\n",
      "ニュース2021年の米企業ニューストップ5：ベゾス氏の退任、Salesforceの共同CEO就任など2021年12月31日 by Ron Miller, Nariko Mizoguchi 消費者側と比べると、企業側の取材はなんだか退屈だという間違った印象を持たれがちだが、これまで数十年にわたってこの分野を追いかけてきた筆者からすると、これほど真実から遠く離れたものはないと断言できる。 続きを読む\n",
      "https://jp.techcrunch.com/news/\n",
      "ヘルステック2022年、もっと「エイジテック」に注目しよう2021年12月31日 by Catherine Shu, sako この2年間、私たちの多くは、画面を通してしか高齢の身内と会うことができず、安全とひきかえに物理的な距離を取りながら、年老いていく身内を見守ってきた。今回のパンデミックでは、何よりも高齢者の脆弱性が浮き彫りになった。創業者、投資家、ジャーナリストなど、テック業界の関係者はみんな「エイジテック」にもっと注意を払う必要がある。 続きを読む\n",
      "https://jp.techcrunch.com/news/healthtech/\n"
     ]
    }
   ],
   "source": [
    "from urllib import request  # urllib.requestモジュールをインポート\n",
    "from bs4 import BeautifulSoup  # BeautifulSoupクラスをインポート\n",
    "\n",
    "url = \"https://jp.techcrunch.com/\"\n",
    "response = request.urlopen(url)\n",
    "soup = BeautifulSoup(response)\n",
    "response.close()\n",
    "#soup\n",
    "\n",
    "## soup と実行すると、ソースコードを吐き出してくれる。\n",
    "## そこから、必要な要素を考える。\n",
    "links = soup.find_all(\"div\",class_=\"block block-thumb\")\n",
    "for li in links:\n",
    "    #print(li)\n",
    "    l = li.find(\"a\")\n",
    "    if l != None: #liに実態があれば\n",
    "        url = l.get(\"href\")\n",
    "        title = li.text.replace( '\\n' , '' )#何故か改行が入ってしまってる場合がある。\n",
    "        print(title)\n",
    "        print(url)"
   ]
  },
  {
   "cell_type": "code",
   "execution_count": null,
   "id": "743b2e8b-2720-46b2-a251-b0972f54014c",
   "metadata": {},
   "outputs": [],
   "source": []
  }
 ],
 "metadata": {
  "kernelspec": {
   "display_name": "Python 3 (ipykernel)",
   "language": "python",
   "name": "python3"
  },
  "language_info": {
   "codemirror_mode": {
    "name": "ipython",
    "version": 3
   },
   "file_extension": ".py",
   "mimetype": "text/x-python",
   "name": "python",
   "nbconvert_exporter": "python",
   "pygments_lexer": "ipython3",
   "version": "3.9.6"
  }
 },
 "nbformat": 4,
 "nbformat_minor": 5
}
