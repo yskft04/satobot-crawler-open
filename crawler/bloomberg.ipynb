{
 "cells": [
  {
   "cell_type": "code",
   "execution_count": 14,
   "id": "f84d6ec6-40d0-4b7c-9e84-a6aaf9ce3d14",
   "metadata": {},
   "outputs": [
    {
     "name": "stdout",
     "output_type": "stream",
     "text": [
      "ウィーン氏の22年びっくり予想－米国株は調整、10年債利回り2.75％へ\n",
      "/news/articles/2022-01-04/R55MGNT0AFB401?srnd=cojp-v2\n",
      "米テスラ、新疆ウイグル自治区にショールーム－米中対立激化の中で\n",
      "/news/articles/2022-01-04/R55QWCT0AFB501?srnd=cojp-v2\n",
      "ビットコイン、年初一時2.8％下落－アジア時間朝は４万6000ドル台\n",
      "/news/articles/2022-01-04/R55NIUDWLU6901?srnd=cojp-v2\n",
      "核兵器保有５カ国、「核戦争に勝利はできない」－異例の共同声明発表\n",
      "/news/articles/2022-01-04/R55NX3DWX2PT01?srnd=cojp-v2\n",
      "米10年債利回り1.6％台に急伸、年初では09年以来最悪のスタート\n",
      "/news/articles/2022-01-03/R551LKT0AFB801?srnd=cojp-v2\n",
      "アップル時価総額が一時３兆ドル突破、米企業で初－デジタル需要支え\n",
      "/news/articles/2022-01-03/R55EW1T1UM0W01?srnd=cojp-v2\n",
      "ブリッジウォーターが共同ＣＥＯにバーディー、ベルトリーニ両氏指名\n",
      "/news/articles/2022-01-03/R556ZDDWX2PT01?srnd=cojp-v2\n",
      "中国恒大に建物解体命令との報道、不動産会社の株価指数が下落\n",
      "/news/articles/2022-01-03/R541QJDWX2PS01?srnd=cojp-v2\n",
      "記録破りの米新型コロナ感染者数、実際はもっと多い可能性も\n",
      "/news/articles/2022-01-03/R55BKHDWLU6X01?srnd=cojp-v2\n",
      "ゴールドマンが忠告、今年は賃金インフレへのエクスポージャー回避を\n",
      "/news/articles/2022-01-03/R54Y7FDWRGG201?srnd=cojp-v2\n"
     ]
    }
   ],
   "source": [
    "from urllib import request  # urllib.requestモジュールをインポート\n",
    "from bs4 import BeautifulSoup  # BeautifulSoupクラスをインポート\n",
    "\n",
    "url = \"https://www.bloomberg.co.jp/\"\n",
    "response = request.urlopen(url)\n",
    "soup = BeautifulSoup(response)\n",
    "response.close()\n",
    "#soup\n",
    "\n",
    "## soup と実行すると、ソースコードを吐き出してくれる。\n",
    "## そこから、必要な要素を考える。\n",
    "links = soup.find_all(\"div\",class_=\"hero-module__info\" and \"story-list-story__info__headline\")\n",
    "for li in links:\n",
    "    #print(li)\n",
    "    l = li.find(\"a\")\n",
    "    if l != None: #liに実態があれば\n",
    "        url = l.get(\"href\")\n",
    "        title = li.text.replace( '\\n' , '' )#何故か改行が入ってしまってる場合がある。\n",
    "        print(title)\n",
    "        print(url)"
   ]
  },
  {
   "cell_type": "code",
   "execution_count": null,
   "id": "4883c9f9-ac9c-4133-a85e-38eea911fdae",
   "metadata": {},
   "outputs": [],
   "source": []
  }
 ],
 "metadata": {
  "kernelspec": {
   "display_name": "Python 3 (ipykernel)",
   "language": "python",
   "name": "python3"
  },
  "language_info": {
   "codemirror_mode": {
    "name": "ipython",
    "version": 3
   },
   "file_extension": ".py",
   "mimetype": "text/x-python",
   "name": "python",
   "nbconvert_exporter": "python",
   "pygments_lexer": "ipython3",
   "version": "3.9.6"
  }
 },
 "nbformat": 4,
 "nbformat_minor": 5
}
