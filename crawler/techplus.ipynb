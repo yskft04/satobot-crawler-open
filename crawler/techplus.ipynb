{
 "cells": [
  {
   "cell_type": "code",
   "execution_count": 16,
   "id": "092b1b78-f419-477c-b033-fe1d82eb9aff",
   "metadata": {},
   "outputs": [
    {
     "name": "stdout",
     "output_type": "stream",
     "text": [
      "2022年01月03日(月)                宇宙・航空                              メーカー自身も驚いた、NASAが「宇宙用」に見出していた日本の企業5社                                2022/01/03 08:00                                    レポート                   \n",
      "/techplus/article/20220103-2240757/\n",
      "2021年12月31日(金)                サイエンス                              2021年注目された記事は!?　サイエンスの話題を記事ランキングで振り返る                                2021/12/31 07:01                                    レポート                   \n",
      "/techplus/article/20211231-2240667/\n",
      "2021年12月30日(木)                医療/バイオ                              2021年注目された記事は!?　医療/バイオの話題を記事ランキングで振り返る                                2021/12/30 07:00                                    レポート                   \n",
      "/techplus/article/20211230-2240637/\n",
      "2021年12月29日(水)                産業機器/ロボット                              ディスコが長野/広島事業所の太陽光発電システムを増設、メガソーラー化                                2021/12/29 18:58                                 医療/バイオ                              アミノ酸などの摂取が筋肉の老化を改善しハエの寿命を延ばす、都立大などが確認                                2021/12/29 18:34                                 エネルギー                              東大など、タングステン添加酸化スズ薄膜が赤外光でも発電しやすい理由を解明                                2021/12/29 15:42                                 宇宙・航空                              SAPPHIRES国際共同実験、未知素粒子の発見条件を絞り込み                                2021/12/29 15:29                                 半導体デバイス                              UMCが中小ファブレスからの製造受託価格を5～10％値上げへ、台湾メディア報道                                2021/12/29 15:04                                 半導体デバイス                              堀場エステック、中国におけるマスフローコントローラの生産体制を強化                                2021/12/29 14:53                                 半導体デバイス                              2021年の半導体設備投資額は前年比31％増の1520億ドル、IC Insights調べ                                2021/12/29 14:25                                 宇宙・航空                              2021年注目された記事は!?　宇宙・航空の話題を記事ランキングで振り返る                                2021/12/29 07:30                                    レポート                                   サイエンス                              どこでもサイエンス 第223回 2022年の宇宙どうでしょう？(1−2月編)                                2021/12/29 07:00                                    連載                   \n",
      "/techplus/article/20211229-2241302/\n",
      "2021年12月28日(火)                医療/バイオ                              新型コロナ感染者は感染1年後も検出可能な抗体量を有している、横浜市大が確認                                2021/12/28 20:47                                 医療/バイオ                              新型コロナワクチンは2回接種後3週間で十分な免疫が誘導される、横浜市大が確認                                2021/12/28 20:33                                 サイエンス                              東大など、電気的な反発が強い電子集団の本質的な相図の解明に成功                                2021/12/28 20:19                                 半導体デバイス                              熱により励起された磁気の流れ、JAISTが極小量子センサで計測することに成功                                2021/12/28 19:44                                 サイエンス                              新年を飾る、しぶんぎ座流星群「近年まれにみる絶好条件」                                2021/12/28 18:19                                 半導体デバイス                              国立台湾大学に半導体研究専門の大学院が誕生、高度な半導体研究人材育成を強化                                2021/12/28 18:13                                 半導体デバイス                              Micronの2022年度第1四半期決算は前年同期比33％増、先端技術が奏功                                2021/12/28 17:50                                 組み込み                              Samsung、エンタープライズサーバ向け高性能PCIe5.0 SSDを開発                                2021/12/28 17:26                 \n",
      "/techplus/article/20211228-2240891/\n"
     ]
    }
   ],
   "source": [
    "from urllib import request  # urllib.requestモジュールをインポート\n",
    "from bs4 import BeautifulSoup  # BeautifulSoupクラスをインポート\n",
    "\n",
    "url = \"https://news.mynavi.jp/techplus/list/headline/technology/\"\n",
    "response = request.urlopen(url)\n",
    "soup = BeautifulSoup(response)\n",
    "response.close()\n",
    "#soup\n",
    "\n",
    "## soup と実行すると、ソースコードを吐き出してくれる。\n",
    "## そこから、必要な要素を考える。\n",
    "links = soup.find_all(\"div\",class_=\"c-archiveList_daily\")\n",
    "for li in links:\n",
    "    #print(li)\n",
    "    l = li.find(\"a\")\n",
    "    if l != None: #liに実態があれば\n",
    "        url = l.get(\"href\")\n",
    "        title = li.text.replace( '\\n' , '' )#何故か改行が入ってしまってる場合がある。\n",
    "        print(title)\n",
    "        print(url)"
   ]
  },
  {
   "cell_type": "code",
   "execution_count": null,
   "id": "7cc6e51d-a53b-4ac4-8d12-bf3120c6bc99",
   "metadata": {},
   "outputs": [],
   "source": []
  },
  {
   "cell_type": "code",
   "execution_count": null,
   "id": "824de46b-dd28-4a18-a072-5dd5a7ddeb23",
   "metadata": {},
   "outputs": [],
   "source": []
  }
 ],
 "metadata": {
  "kernelspec": {
   "display_name": "Python 3 (ipykernel)",
   "language": "python",
   "name": "python3"
  },
  "language_info": {
   "codemirror_mode": {
    "name": "ipython",
    "version": 3
   },
   "file_extension": ".py",
   "mimetype": "text/x-python",
   "name": "python",
   "nbconvert_exporter": "python",
   "pygments_lexer": "ipython3",
   "version": "3.9.6"
  }
 },
 "nbformat": 4,
 "nbformat_minor": 5
}
