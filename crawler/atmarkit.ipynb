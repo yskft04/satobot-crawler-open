{
 "cells": [
  {
   "cell_type": "code",
   "execution_count": null,
   "id": "e93b90f0-7d36-42c7-8a15-86ff3bea3039",
   "metadata": {},
   "outputs": [
    {
     "name": "stdout",
     "output_type": "stream",
     "text": [
      "「サイバー先進企業」に共通する6つの特徴とは　アクセンチュアが「サイバーレジリエンスの現状 2021」を公開\n",
      "https://atmarkit.itmedia.co.jp/ait/articles/2112/27/news033.html\n",
      "リモートとオフィスでそれぞれ「はかどる仕事」は何？　オカムラが働き方の変化に関する調査結果を発表\n",
      "https://atmarkit.itmedia.co.jp/ait/articles/2112/24/news043.html\n",
      "社会インフラITへの投資は「西に向かうほど盛り上がるだろう」　矢野経済研究所が調査結果を発表\n",
      "https://atmarkit.itmedia.co.jp/ait/articles/2112/22/news128.html\n",
      "非導入企業に比べてAI導入企業の「自社開発や内製化の割合」は高い　AI insideがAI活用に関する調査結果を発表\n",
      "https://atmarkit.itmedia.co.jp/ait/articles/2112/22/news050.html\n",
      "「入社式や新入社員研修がオンラインだと不安」が67.3％　学情が「入社式・新入社員研修」に関する調査結果を発表\n",
      "https://atmarkit.itmedia.co.jp/ait/articles/2112/20/news117.html\n",
      "DX推進の阻害要因は“管理職のITリテラシー不足”　リンクアカデミーが「企業のDX推進における課題」を調査\n",
      "https://atmarkit.itmedia.co.jp/ait/articles/2112/20/news038.html\n",
      "サイバートラストが「RHEL 9」を基にした「MIRACLE LINUX 9」を無償で提供\n",
      "https://atmarkit.itmedia.co.jp/ait/articles/2112/17/news040.html\n",
      "Microsoft Research、バグを発見、修正するためのディープラーニングモデル「BugLab」を開発\n",
      "https://atmarkit.itmedia.co.jp/ait/articles/2112/16/news135.html\n",
      "約6割の企業が「従業員のエンゲージメント・帰属意識」に課題を抱えている　エンワールド・ジャパンがリモートワークに関する調査結果発表\n",
      "https://atmarkit.itmedia.co.jp/ait/articles/2112/16/news041.html\n",
      "約半数が「自分は健康だと思わない」と回答　Lboseがフリーランスの健康に関する調査結果を発表\n",
      "https://atmarkit.itmedia.co.jp/ait/articles/2112/15/news046.html\n",
      "GitHubに新しいコード検索機能が登場\n",
      "https://atmarkit.itmedia.co.jp/ait/articles/2112/13/news078.html\n",
      "IPAが「Apache Log4j脆弱性」の暫定回避方法を紹介\n",
      "https://atmarkit.itmedia.co.jp/ait/articles/2112/14/news035.html\n",
      "1位は「デンマーク」　早稲田大学が「世界デジタル政府ランキング2021」を発表\n",
      "https://atmarkit.itmedia.co.jp/ait/articles/2112/13/news039.html\n",
      "4人に1人が「ルール違反と認識しつつ、パスワードを使い回している」　IPAがセキュリティ調査の結果を発表\n",
      "https://atmarkit.itmedia.co.jp/ait/articles/2112/10/news046.html\n",
      "GitHubは開発者の生産性向上に、どの程度役立っているのか\n",
      "https://atmarkit.itmedia.co.jp/ait/articles/2112/09/news137.html\n",
      "最も気になるリモートワークの課題は「運動不足」　paizaがリモートワークに関する調査結果を発表\n",
      "https://atmarkit.itmedia.co.jp/ait/articles/2112/09/news033.html\n",
      "日本、米国、英国の「コロナ禍のセキュリティ対策」の比較結果を発表　SecureAge\n",
      "https://atmarkit.itmedia.co.jp/ait/articles/2112/08/news032.html\n",
      "約6割が「プログラミング学習を始めて3カ月以内に挫折を経験」　initがプログラミング学習に関して調査\n",
      "https://atmarkit.itmedia.co.jp/ait/articles/2112/07/news038.html\n",
      "次のWi-Fiはどうなる？　IoTでの利用拡大を狙う\n",
      "https://atmarkit.itmedia.co.jp/ait/articles/2112/06/news121.html\n",
      "「CAPTCHAを通過した人だけをだます」フィッシングサイトも　Palo Alto Networksが2021年のサイバー攻撃の振り返りを発表\n",
      "https://atmarkit.itmedia.co.jp/ait/articles/2112/06/news026.html\n"
     ]
    }
   ],
   "source": [
    "from urllib import request  # urllib.requestモジュールをインポート\n",
    "from bs4 import BeautifulSoup  # BeautifulSoupクラスをインポート\n",
    "\n",
    "url = \"https://atmarkit.itmedia.co.jp/ait/subtop/news/\"\n",
    "response = request.urlopen(url)\n",
    "soup = BeautifulSoup(response)\n",
    "response.close()\n",
    "#soup\n",
    "\n",
    "## soup と実行すると、ソースコードを吐き出してくれる。\n",
    "## そこから、必要な要素を考える。\n",
    "links = soup.find_all(\"div\",class_=\"colBoxTitle\")\n",
    "for li in links:\n",
    "    #print(li)\n",
    "    l = li.find(\"a\")\n",
    "    if l != None: #liに実態があれば\n",
    "        url = l.get(\"href\")\n",
    "        title = li.text.replace( '\\n' , '' )#何故か改行が入ってしまってる場合がある。\n",
    "        print(title)\n",
    "        print(url)"
   ]
  },
  {
   "cell_type": "code",
   "execution_count": null,
   "id": "0779cbe5-ebf2-483f-9d5a-6c18f82618d4",
   "metadata": {},
   "outputs": [],
   "source": []
  }
 ],
 "metadata": {
  "kernelspec": {
   "display_name": "Python 3 (ipykernel)",
   "language": "python",
   "name": "python3"
  },
  "language_info": {
   "codemirror_mode": {
    "name": "ipython",
    "version": 3
   },
   "file_extension": ".py",
   "mimetype": "text/x-python",
   "name": "python",
   "nbconvert_exporter": "python",
   "pygments_lexer": "ipython3",
   "version": "3.9.6"
  }
 },
 "nbformat": 4,
 "nbformat_minor": 5
}
